{
 "cells": [
  {
   "cell_type": "code",
   "execution_count": 2,
   "metadata": {},
   "outputs": [
    {
     "name": "stdout",
     "output_type": "stream",
     "text": [
      "The final file with 25,000 rows has been created successfully.\n"
     ]
    }
   ],
   "source": [
    "import pandas as pd\n",
    "import random\n",
    "\n",
    "# List of CSV files\n",
    "csv_files = ['4.9k.csv', '5k.csv', '7.1k.csv', '28k.csv', '34k.csv', '45k.csv']\n",
    "\n",
    "# Read all CSV files and combine them into a single DataFrame\n",
    "all_data = pd.concat([pd.read_csv('../kaggle_dataset/' + file) for file in csv_files], ignore_index=True)\n",
    "\n",
    "# Dictionary to store DataFrames for each rating\n",
    "rating_dfs = {}\n",
    "\n",
    "# Collect 5000 unique rows for each rating (1 to 5) without duplicates in 'Review' column\n",
    "for rating in range(1, 6):\n",
    "    rating_df = all_data[all_data['Rating'] == rating]\n",
    "    rating_df = rating_df.drop_duplicates(subset=['Review'])  # Drop duplicates in 'Review' column\n",
    "    if len(rating_df) < 5000:\n",
    "        raise ValueError(f\"Not enough unique rows with rating {rating}. Found only {len(rating_df)} unique rows.\")\n",
    "    rating_dfs[rating] = rating_df.sample(n=5000, random_state=1)  # Random sampling for reproducibility\n",
    "\n",
    "# Concatenate the DataFrames for each rating to create the final DataFrame\n",
    "final_df = pd.concat([rating_dfs[rating] for rating in range(1, 6)], ignore_index=True)\n",
    "\n",
    "# Save the final DataFrame to a new CSV file\n",
    "final_df.to_csv('../review_data/kaggle_25k.csv', index=False)\n",
    "\n",
    "print(\"The final file with 25,000 rows has been created successfully.\")\n"
   ]
  }
 ],
 "metadata": {
  "kernelspec": {
   "display_name": "Python 3",
   "language": "python",
   "name": "python3"
  },
  "language_info": {
   "codemirror_mode": {
    "name": "ipython",
    "version": 3
   },
   "file_extension": ".py",
   "mimetype": "text/x-python",
   "name": "python",
   "nbconvert_exporter": "python",
   "pygments_lexer": "ipython3",
   "version": "3.12.3"
  }
 },
 "nbformat": 4,
 "nbformat_minor": 2
}
