{
 "cells": [
  {
   "cell_type": "code",
   "execution_count": 1,
   "metadata": {},
   "outputs": [],
   "source": [
    "import pandas as pd\n",
    "\n",
    "# Assuming your CSV filenames are 'file1.csv' and 'file2.csv'\n",
    "file1 = '../review_data/dataset_7(senti).csv'\n",
    "file2 = '../review_data/kaggle_25k.csv'\n",
    "\n",
    "# Function to read and process a CSV file\n",
    "def process_csv(filename):\n",
    "    # Read the CSV file into a DataFrame\n",
    "    df = pd.read_csv(filename)\n",
    "    \n",
    "    # Extracting only the columns 'Rating', 'Review', and 'Sentiment'\n",
    "    df = df[['Rating', 'Review', 'Sentiment']]\n",
    "    \n",
    "    return df\n",
    "\n",
    "# Process both CSV files\n",
    "df1 = process_csv(file1)\n",
    "df2 = process_csv(file2)\n",
    "\n",
    "# If you want to merge the data from both files into one DataFrame\n",
    "merged_df = pd.concat([df1, df2], ignore_index=True)\n",
    "\n",
    "# Optionally, you can save the merged DataFrame back to a new CSV file\n",
    "merged_df.to_csv('../review_data/random25_7_reviews.csv', index=False)\n"
   ]
  }
 ],
 "metadata": {
  "kernelspec": {
   "display_name": "Python 3",
   "language": "python",
   "name": "python3"
  },
  "language_info": {
   "codemirror_mode": {
    "name": "ipython",
    "version": 3
   },
   "file_extension": ".py",
   "mimetype": "text/x-python",
   "name": "python",
   "nbconvert_exporter": "python",
   "pygments_lexer": "ipython3",
   "version": "3.12.3"
  }
 },
 "nbformat": 4,
 "nbformat_minor": 2
}
