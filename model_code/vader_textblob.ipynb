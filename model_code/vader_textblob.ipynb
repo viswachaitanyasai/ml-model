{
 "cells": [
  {
   "cell_type": "markdown",
   "metadata": {},
   "source": [
    "## VADER Model"
   ]
  },
  {
   "cell_type": "code",
   "execution_count": 6,
   "metadata": {},
   "outputs": [
    {
     "name": "stderr",
     "output_type": "stream",
     "text": [
      "[nltk_data] Downloading package vader_lexicon to\n",
      "[nltk_data]     C:\\Users\\KIIT\\AppData\\Roaming\\nltk_data...\n",
      "[nltk_data]   Package vader_lexicon is already up-to-date!\n"
     ]
    }
   ],
   "source": [
    "import pandas as pd\n",
    "from nltk.sentiment.vader import SentimentIntensityAnalyzer\n",
    "import nltk\n",
    "import re\n",
    "\n",
    "# Download the VADER lexicon\n",
    "nltk.download('vader_lexicon')\n",
    "\n",
    "# Initialize the VADER sentiment analyzer\n",
    "sia = SentimentIntensityAnalyzer()\n",
    "\n",
    "# Read the CSV file\n",
    "file_path = '../review_data/dataset_7.csv'\n",
    "df = pd.read_csv(file_path)\n",
    "\n",
    "# Function to analyze sentiment\n",
    "def clean_review(review):\n",
    "    if pd.isna(review):\n",
    "        return None\n",
    "    review = str(review)  # Ensure the review is a string\n",
    "    review = review.lower()  # Convert to lowercase\n",
    "    review = re.sub(r'[^a-zA-Z\\s]', '', review)  # Remove non-alphabetic characters\n",
    "    review = re.sub(r'\\s+', ' ', review).strip()  # Remove extra whitespace\n",
    "    return review if review else None\n",
    "\n",
    "# Clean the 'Review' column in place\n",
    "df['Review'] = df['Review'].apply(clean_review)\n",
    "\n",
    "# Drop rows where 'Review' is None\n",
    "df.dropna(subset=['Review', 'Rating'], inplace=True)\n",
    "\n",
    "def analyze_sentiment(review):\n",
    "    scores = sia.polarity_scores(review)\n",
    "    return scores\n",
    "\n",
    "# Apply the sentiment analysis function to the 'Review' column\n",
    "df['Score'] = df['Review'].apply(analyze_sentiment)\n",
    "\n",
    "def set_sentiment(score):\n",
    "    if score['compound'] >= 0.5:\n",
    "        return 'positive'\n",
    "    elif score['compound'] <= -0.5:\n",
    "        return 'negative'\n",
    "    else:\n",
    "        return 'neutral'\n",
    "\n",
    "df['Sentiment'] = df['Score'].apply(set_sentiment)\n",
    "\n",
    "# Optionally, save the results to a new CSV file\n",
    "output_file_path = '../review_data/dataset_7(senti).csv'\n",
    "output_file_path = '../analyzed_data/vader_analyzed_data.csv'\n",
    "df.to_csv(output_file_path, index=False)"
   ]
  },
  {
   "cell_type": "markdown",
   "metadata": {},
   "source": [
    "## Textblob"
   ]
  },
  {
   "cell_type": "code",
   "execution_count": null,
   "metadata": {},
   "outputs": [],
   "source": [
    "import pandas as pd\n",
    "from textblob import TextBlob\n",
    "\n",
    "# Read the CSV file\n",
    "file_path = 'review_data/transulated_all_products_data.csv'\n",
    "df = pd.read_csv(file_path)\n",
    "\n",
    "# Function to determine sentiment using TextBlob\n",
    "def get_sentiment(review):\n",
    "    analysis = TextBlob(review)\n",
    "    if analysis.sentiment.polarity > 0:\n",
    "        return 'positive'\n",
    "    elif analysis.sentiment.polarity < 0:\n",
    "        return 'negative'\n",
    "    else:\n",
    "        return 'neutral'\n",
    "\n",
    "# Apply the function to create the Sentiment column\n",
    "df['Sentiment'] = df['Review'].apply(get_sentiment)\n",
    "\n",
    "# Save the new dataframe with Sentiment column\n",
    "df.to_csv('analyzed_data/textblob_analyzed_data.csv', index=False)\n",
    "\n",
    "# Print the first few rows of the updated dataframe\n",
    "print(df.head())\n"
   ]
  }
 ],
 "metadata": {
  "kernelspec": {
   "display_name": "Python 3",
   "language": "python",
   "name": "python3"
  },
  "language_info": {
   "codemirror_mode": {
    "name": "ipython",
    "version": 3
   },
   "file_extension": ".py",
   "mimetype": "text/x-python",
   "name": "python",
   "nbconvert_exporter": "python",
   "pygments_lexer": "ipython3",
   "version": "3.12.3"
  }
 },
 "nbformat": 4,
 "nbformat_minor": 2
}
