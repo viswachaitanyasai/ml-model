{
 "cells": [
  {
   "cell_type": "markdown",
   "id": "9cdaced3-c10f-465a-8cbf-46f77902306a",
   "metadata": {},
   "source": [
    "# Sentiment Analysis - ML Models on Intel Reviews\n",
    "\n",
    "Analyzing the Intel Processor dataset and building classification models to predict if the sentiment of a given input sentence is positive or negative.\n"
   ]
  },
  {
   "cell_type": "markdown",
   "id": "3f858bd5-ee44-422b-9989-6e95947f1448",
   "metadata": {},
   "source": [
    "### Importing required libraries"
   ]
  },
  {
   "cell_type": "code",
   "execution_count": null,
   "id": "7e7fb25a",
   "metadata": {},
   "outputs": [],
   "source": [
    "%pip install pandas nltk seaborn matplotlib scikit-learn xgboost joblib\n"
   ]
  },
  {
   "cell_type": "code",
   "execution_count": 19,
   "id": "2eb8486c-e78c-4f91-91b7-6d327702a445",
   "metadata": {},
   "outputs": [],
   "source": [
    "import pandas as pd\n",
    "import re\n",
    "import nltk\n",
    "import seaborn as sns\n",
    "import string\n",
    "import matplotlib.pyplot as plt\n",
    "from nltk.corpus import stopwords\n",
    "from nltk.stem import PorterStemmer\n",
    "from sklearn.feature_extraction.text import CountVectorizer\n",
    "from sklearn.model_selection import train_test_split, GridSearchCV, cross_val_score\n",
    "from sklearn.metrics import accuracy_score, confusion_matrix\n",
    "from sklearn.ensemble import RandomForestClassifier\n",
    "from xgboost import XGBClassifier\n",
    "from joblib import load, dump\n",
    "from sklearn.svm import SVC\n",
    "from xgboost import XGBClassifier\n",
    "from sklearn.metrics import accuracy_score, precision_score, recall_score, f1_score\n"
   ]
  },
  {
   "cell_type": "markdown",
   "id": "6d788224-479f-4ccc-911a-82ff32c890a0",
   "metadata": {},
   "source": [
    "## Load the Training Data"
   ]
  },
  {
   "cell_type": "code",
   "execution_count": 5,
   "id": "826cfde3-3451-4676-a9a9-0b577d63ace2",
   "metadata": {},
   "outputs": [],
   "source": [
    "# Load data from CSV\n",
    "df = pd.read_csv('../review_data/dataset_7(senti)_roberta.csv')"
   ]
  },
  {
   "cell_type": "code",
   "execution_count": 6,
   "id": "b15a4052-ec93-472f-b9cb-cec69bfc4992",
   "metadata": {},
   "outputs": [
    {
     "data": {
      "text/html": [
       "<div>\n",
       "<style scoped>\n",
       "    .dataframe tbody tr th:only-of-type {\n",
       "        vertical-align: middle;\n",
       "    }\n",
       "\n",
       "    .dataframe tbody tr th {\n",
       "        vertical-align: top;\n",
       "    }\n",
       "\n",
       "    .dataframe thead th {\n",
       "        text-align: right;\n",
       "    }\n",
       "</style>\n",
       "<table border=\"1\" class=\"dataframe\">\n",
       "  <thead>\n",
       "    <tr style=\"text-align: right;\">\n",
       "      <th></th>\n",
       "      <th>Product</th>\n",
       "      <th>Rating</th>\n",
       "      <th>Date</th>\n",
       "      <th>Source</th>\n",
       "      <th>Review</th>\n",
       "      <th>Sentiment</th>\n",
       "    </tr>\n",
       "  </thead>\n",
       "  <tbody>\n",
       "    <tr>\n",
       "      <th>0</th>\n",
       "      <td>intel-i7-14700k</td>\n",
       "      <td>5.0</td>\n",
       "      <td>November/2023</td>\n",
       "      <td>amazon</td>\n",
       "      <td>far good cpu monster run very nicely boost max...</td>\n",
       "      <td>positive</td>\n",
       "    </tr>\n",
       "    <tr>\n",
       "      <th>1</th>\n",
       "      <td>intel-i7-14700k</td>\n",
       "      <td>5.0</td>\n",
       "      <td>January/2024</td>\n",
       "      <td>amazon</td>\n",
       "      <td>guess everyone right thing hot went brand aio ...</td>\n",
       "      <td>positive</td>\n",
       "    </tr>\n",
       "    <tr>\n",
       "      <th>2</th>\n",
       "      <td>intel-i7-14700k</td>\n",
       "      <td>5.0</td>\n",
       "      <td>March/2024</td>\n",
       "      <td>amazon</td>\n",
       "      <td>intel ik delivers impressive performance high ...</td>\n",
       "      <td>positive</td>\n",
       "    </tr>\n",
       "    <tr>\n",
       "      <th>3</th>\n",
       "      <td>intel-i7-14700k</td>\n",
       "      <td>5.0</td>\n",
       "      <td>May/2024</td>\n",
       "      <td>amazon</td>\n",
       "      <td>purchase cpu please also purchase alongside pu...</td>\n",
       "      <td>positive</td>\n",
       "    </tr>\n",
       "    <tr>\n",
       "      <th>4</th>\n",
       "      <td>intel-i7-14700k</td>\n",
       "      <td>5.0</td>\n",
       "      <td>April/2024</td>\n",
       "      <td>amazon</td>\n",
       "      <td>professional cpu isnt designed average user ho...</td>\n",
       "      <td>positive</td>\n",
       "    </tr>\n",
       "  </tbody>\n",
       "</table>\n",
       "</div>"
      ],
      "text/plain": [
       "           Product  Rating           Date  Source  \\\n",
       "0  intel-i7-14700k     5.0  November/2023  amazon   \n",
       "1  intel-i7-14700k     5.0   January/2024  amazon   \n",
       "2  intel-i7-14700k     5.0     March/2024  amazon   \n",
       "3  intel-i7-14700k     5.0       May/2024  amazon   \n",
       "4  intel-i7-14700k     5.0     April/2024  amazon   \n",
       "\n",
       "                                              Review Sentiment  \n",
       "0  far good cpu monster run very nicely boost max...  positive  \n",
       "1  guess everyone right thing hot went brand aio ...  positive  \n",
       "2  intel ik delivers impressive performance high ...  positive  \n",
       "3  purchase cpu please also purchase alongside pu...  positive  \n",
       "4  professional cpu isnt designed average user ho...  positive  "
      ]
     },
     "execution_count": 6,
     "metadata": {},
     "output_type": "execute_result"
    }
   ],
   "source": [
    "df.head()"
   ]
  },
  {
   "cell_type": "code",
   "execution_count": 7,
   "id": "5b4d055f-c438-464a-a992-556919fa8a47",
   "metadata": {},
   "outputs": [
    {
     "name": "stdout",
     "output_type": "stream",
     "text": [
      "Feature names : ['Product' 'Rating' 'Date' 'Source' 'Review' 'Sentiment']\n"
     ]
    }
   ],
   "source": [
    "#Column names\n",
    "\n",
    "print(f\"Feature names : {df.columns.values}\")"
   ]
  },
  {
   "cell_type": "code",
   "execution_count": 8,
   "id": "5b34f07a-b8ef-4378-afe8-2875af7a6389",
   "metadata": {},
   "outputs": [
    {
     "data": {
      "text/plain": [
       "Product      2\n",
       "Rating       2\n",
       "Date         0\n",
       "Source       2\n",
       "Review       0\n",
       "Sentiment    0\n",
       "dtype: int64"
      ]
     },
     "execution_count": 8,
     "metadata": {},
     "output_type": "execute_result"
    }
   ],
   "source": [
    "#Check for null values\n",
    "\n",
    "df.isnull().sum()"
   ]
  },
  {
   "cell_type": "code",
   "execution_count": 9,
   "id": "b8395756-dc4b-4afc-9f8d-b990879db5b2",
   "metadata": {},
   "outputs": [
    {
     "data": {
      "text/html": [
       "<div>\n",
       "<style scoped>\n",
       "    .dataframe tbody tr th:only-of-type {\n",
       "        vertical-align: middle;\n",
       "    }\n",
       "\n",
       "    .dataframe tbody tr th {\n",
       "        vertical-align: top;\n",
       "    }\n",
       "\n",
       "    .dataframe thead th {\n",
       "        text-align: right;\n",
       "    }\n",
       "</style>\n",
       "<table border=\"1\" class=\"dataframe\">\n",
       "  <thead>\n",
       "    <tr style=\"text-align: right;\">\n",
       "      <th></th>\n",
       "      <th>Product</th>\n",
       "      <th>Rating</th>\n",
       "      <th>Date</th>\n",
       "      <th>Source</th>\n",
       "      <th>Review</th>\n",
       "      <th>Sentiment</th>\n",
       "    </tr>\n",
       "  </thead>\n",
       "  <tbody>\n",
       "  </tbody>\n",
       "</table>\n",
       "</div>"
      ],
      "text/plain": [
       "Empty DataFrame\n",
       "Columns: [Product, Rating, Date, Source, Review, Sentiment]\n",
       "Index: []"
      ]
     },
     "execution_count": 9,
     "metadata": {},
     "output_type": "execute_result"
    }
   ],
   "source": [
    "#Getting the record where 'verified_reviews' is null \n",
    "\n",
    "df[df['Review'].isna() == True]"
   ]
  },
  {
   "cell_type": "code",
   "execution_count": 10,
   "id": "0c716ab3-3644-44fc-a191-624cfa866516",
   "metadata": {},
   "outputs": [],
   "source": [
    "#We will drop the null record\n",
    "\n",
    "df.dropna(inplace=True)"
   ]
  },
  {
   "cell_type": "code",
   "execution_count": 11,
   "id": "a42bb168-a271-4dfc-bd52-179d358aa91e",
   "metadata": {},
   "outputs": [
    {
     "name": "stdout",
     "output_type": "stream",
     "text": [
      "Dataset shape after dropping null values : (7528, 6)\n"
     ]
    }
   ],
   "source": [
    "print(f\"Dataset shape after dropping null values : {df.shape}\")"
   ]
  },
  {
   "cell_type": "markdown",
   "id": "34290d02-7c4f-4402-927b-1480ba47a1a5",
   "metadata": {},
   "source": [
    "## Preprocessing & Data Cleaning"
   ]
  },
  {
   "cell_type": "markdown",
   "id": "d4349885-747f-48ef-bdf5-292e975d0926",
   "metadata": {},
   "source": [
    "To build the corpus from the 'Review' we perform the following - <br>\n",
    "1. Replace any non alphabet characters with a space\n",
    "2. Covert to lower case and split into words\n",
    "3. Iterate over the individual words and if it is not a stopword then add the word to the corpus"
   ]
  },
  {
   "cell_type": "code",
   "execution_count": 14,
   "id": "5f1aae9b-bf30-4d65-b422-c557285ddf36",
   "metadata": {},
   "outputs": [
    {
     "name": "stderr",
     "output_type": "stream",
     "text": [
      "[nltk_data] Downloading package stopwords to\n",
      "[nltk_data]     C:\\Users\\KIIT\\AppData\\Roaming\\nltk_data...\n",
      "[nltk_data]   Package stopwords is already up-to-date!\n"
     ]
    }
   ],
   "source": [
    "# Data Cleaning 2.0\n",
    "corpus = []\n",
    "nltk.download('stopwords')\n",
    "STOPWORDS = set(stopwords.words('english'))\n",
    "\n",
    "for i in range(0, df.shape[0]):\n",
    "    review = re.sub('[^a-zA-Z]', ' ', df.iloc[i]['Review'])\n",
    "    review = review.lower().split()\n",
    "    review = [word for word in review if not word in STOPWORDS]\n",
    "    review = ' '.join(review)\n",
    "    corpus.append(review)\n"
   ]
  },
  {
   "cell_type": "markdown",
   "id": "c90a9b1d-bb44-4bfe-8a56-d5e8a66a4133",
   "metadata": {},
   "source": [
    "## 1. RANDOM FOREST ML MODEL"
   ]
  },
  {
   "cell_type": "code",
   "execution_count": 17,
   "id": "905ee15b-9920-4bb9-90f1-5a35ae40440f",
   "metadata": {},
   "outputs": [
    {
     "name": "stdout",
     "output_type": "stream",
     "text": [
      "Training Accuracy: 0.9988375954832281\n",
      "Testing Accuracy: 0.8871181938911022\n"
     ]
    },
    {
     "data": {
      "image/png": "[encoded data removed]",
      "text/plain": [
       "<Figure size 800x600 with 2 Axes>"
      ]
     },
     "metadata": {},
     "output_type": "display_data"
    },
    {
     "data": {
      "text/plain": [
       "['../ml_trained_model/random_forest/rf_classifier.joblib']"
      ]
     },
     "execution_count": 17,
     "metadata": {},
     "output_type": "execute_result"
    }
   ],
   "source": [
    "\n",
    "# Feature extraction using CountVectorizer\n",
    "vectorizer = CountVectorizer(stop_words='english')\n",
    "X = vectorizer.fit_transform(df['Review'])\n",
    "\n",
    "# Save the vectorizer to a file\n",
    "dump(vectorizer, '../ml_trained_model/random_forest/vectorizer.joblib')\n",
    "\n",
    "# Change labels to positive (1) and negative (0)\n",
    "df['label'] = df['Sentiment'].apply(lambda x: 1 if x == 'positive' else 0)\n",
    "\n",
    "# Split data into training and testing sets\n",
    "X_train, X_test, y_train, y_test = train_test_split(X, df['label'], test_size=0.2, random_state=42)\n",
    "\n",
    "# Initialize Random Forest classifier\n",
    "rf_classifier = RandomForestClassifier(n_estimators=100, random_state=42)\n",
    "\n",
    "# Train the classifier\n",
    "rf_classifier.fit(X_train, y_train)\n",
    "\n",
    "# Predictions\n",
    "y_train_pred = rf_classifier.predict(X_train)\n",
    "y_test_pred = rf_classifier.predict(X_test)\n",
    "\n",
    "# Training accuracy\n",
    "train_accuracy = accuracy_score(y_train, y_train_pred)\n",
    "print(\"Training Accuracy:\", train_accuracy)\n",
    "\n",
    "# Testing accuracy\n",
    "test_accuracy = accuracy_score(y_test, y_test_pred)\n",
    "print(\"Testing Accuracy:\", test_accuracy)\n",
    "\n",
    "# Confusion matrix\n",
    "conf_matrix = confusion_matrix(y_test, y_test_pred)\n",
    "\n",
    "# Plot confusion matrix\n",
    "plt.figure(figsize=(8, 6))\n",
    "sns.heatmap(conf_matrix, annot=True, cmap='Blues', fmt='g')\n",
    "plt.xlabel('Predicted Label')\n",
    "plt.ylabel('True Label')\n",
    "plt.title('Confusion Matrix')\n",
    "plt.show()\n",
    "\n",
    "# Store the trained Random Forest classifier\n",
    "dump(rf_classifier, '../ml_trained_model/random_forest/rf_classifier.joblib')"
   ]
  },
  {
   "cell_type": "code",
   "execution_count": 20,
   "id": "96d8dd74-6254-478b-b115-6183ba50a0c7",
   "metadata": {},
   "outputs": [
    {
     "name": "stdout",
     "output_type": "stream",
     "text": [
      "Mean Cross-Validation Accuracy on Training Set: 0.8782811099929694\n",
      "Accuracy on Test Set (without cross-validation): 0.8871181938911022\n",
      "Accuracy on Test Set (with cross-validation): 0.8871181938911022\n"
     ]
    }
   ],
   "source": [
    "\n",
    "# Perform cross-validation on the training set\n",
    "cv_scores_train = cross_val_score(rf_classifier, X_train, y_train, cv=5, scoring='accuracy')\n",
    "\n",
    "# Mean cross-validation score on the training set\n",
    "mean_cv_score_train = cv_scores_train.mean()\n",
    "print(\"Mean Cross-Validation Accuracy on Training Set:\", mean_cv_score_train)\n",
    "\n",
    "# Predictions on the test set\n",
    "y_test_pred_cv = rf_classifier.predict(X_test)\n",
    "\n",
    "# Accuracy on the test set\n",
    "test_accuracy_cv = accuracy_score(y_test, y_test_pred_cv)\n",
    "print(\"Accuracy on Test Set (without cross-validation):\", test_accuracy)\n",
    "\n",
    "# Accuracy on the test set using cross-validation\n",
    "test_accuracy_cv = accuracy_score(y_test, y_test_pred_cv)\n",
    "print(\"Accuracy on Test Set (with cross-validation):\", test_accuracy_cv)\n"
   ]
  },
  {
   "cell_type": "code",
   "execution_count": 21,
   "id": "35ec1be2-59b2-4b43-be7a-4acf13cd6c45",
   "metadata": {},
   "outputs": [
    {
     "name": "stdout",
     "output_type": "stream",
     "text": [
      "Best Parameters: {'max_depth': None, 'min_samples_split': 2, 'n_estimators': 100}\n",
      "Testing Accuracy with Best Model: 0.8871181938911022\n"
     ]
    },
    {
     "data": {
      "image/png": "[encoded data removed]",
      "text/plain": [
       "<Figure size 800x600 with 2 Axes>"
      ]
     },
     "metadata": {},
     "output_type": "display_data"
    }
   ],
   "source": [
    "\n",
    "# Load the pre-trained Random Forest classifier\n",
    "rf_classifier = load('../ml_trained_model/random_forest/rf_classifier.joblib')\n",
    "\n",
    "# Hyperparameter Tuning using GridSearchCV\n",
    "param_grid = {\n",
    "    'n_estimators': [50, 100, 150],\n",
    "    'max_depth': [None, 10, 20],\n",
    "    'min_samples_split': [2, 5, 10]\n",
    "}\n",
    "\n",
    "# Initialize GridSearchCV\n",
    "grid_search = GridSearchCV(estimator=rf_classifier, param_grid=param_grid, cv=3, scoring='accuracy', n_jobs=-1)\n",
    "\n",
    "# Perform grid search\n",
    "grid_search.fit(X_train, y_train)\n",
    "\n",
    "# Get best parameters\n",
    "best_params = grid_search.best_params_\n",
    "print(\"Best Parameters:\", best_params)\n",
    "\n",
    "# Initialize Random Forest classifier with best parameters\n",
    "best_rf_classifier = RandomForestClassifier(**best_params, random_state=42)\n",
    "\n",
    "# Train the classifier with best parameters\n",
    "best_rf_classifier.fit(X_train, y_train)\n",
    "\n",
    "# Save the trained model to a file named model_rf_best.pkl\n",
    "dump(best_rf_classifier, '../ml_trained_model/random_forest/tuned_rf_model.joblib')\n",
    "\n",
    "# Predictions with best model\n",
    "y_test_pred_best = best_rf_classifier.predict(X_test)\n",
    "\n",
    "# Testing accuracy with best model\n",
    "test_accuracy_best = accuracy_score(y_test, y_test_pred_best)\n",
    "print(\"Testing Accuracy with Best Model:\", test_accuracy_best)\n",
    "\n",
    "# Confusion matrix for best model\n",
    "conf_matrix_best = confusion_matrix(y_test, y_test_pred_best)\n",
    "\n",
    "# Plot confusion matrix for best model\n",
    "plt.figure(figsize=(8, 6))\n",
    "sns.heatmap(conf_matrix_best, annot=True, cmap='Blues', fmt='g')\n",
    "plt.xlabel('Predicted Label')\n",
    "plt.ylabel('True Label')\n",
    "plt.title('Confusion Matrix for Best Model')\n",
    "plt.show()\n"
   ]
  },
  {
   "cell_type": "markdown",
   "id": "4ea05a43-99f3-4dfe-b9b0-eadb5f13ec15",
   "metadata": {},
   "source": [
    "### Deploying the trained model on the resultant data."
   ]
  },
  {
   "cell_type": "code",
   "execution_count": 27,
   "id": "f356a7e1-a0c1-4b18-b3f6-43711c9f0aa4",
   "metadata": {},
   "outputs": [
    {
     "name": "stderr",
     "output_type": "stream",
     "text": [
      "[nltk_data] Downloading package punkt to\n",
      "[nltk_data]     C:\\Users\\KIIT\\AppData\\Roaming\\nltk_data...\n",
      "[nltk_data]   Unzipping tokenizers\\punkt.zip.\n",
      "[nltk_data] Downloading package stopwords to\n",
      "[nltk_data]     C:\\Users\\KIIT\\AppData\\Roaming\\nltk_data...\n",
      "[nltk_data]   Package stopwords is already up-to-date!\n"
     ]
    },
    {
     "name": "stdout",
     "output_type": "stream",
     "text": [
      "Predictions saved.\n"
     ]
    }
   ],
   "source": [
    "\n",
    "# Load new data\n",
    "new_data = pd.read_csv('../review_data/dataset_7(senti)_roberta.csv')\n",
    "\n",
    "# Load the saved model\n",
    "rf_classifier = load('../ml_trained_model/random_forest/tuned_rf_model.joblib')  # Load the model from model_rf_best.pkl\n",
    "\n",
    "# Load the CountVectorizer used during training\n",
    "vectorizer = load('../ml_trained_model/random_forest/vectorizer.joblib')  # Assuming you saved the vectorizer during training\n",
    "\n",
    "# Download NLTK resources\n",
    "nltk.download('punkt')\n",
    "nltk.download('stopwords')\n",
    "\n",
    "# Initialize NLTK Stemmer and stopwords\n",
    "stemmer = PorterStemmer()\n",
    "stop_words = set(stopwords.words('english'))\n",
    "\n",
    "# Function to clean text\n",
    "def clean_text(text):\n",
    "    # Tokenize the text\n",
    "    tokens = nltk.word_tokenize(text)\n",
    "    # Convert tokens to lowercase\n",
    "    tokens = [word.lower() for word in tokens]\n",
    "    # Remove punctuations\n",
    "    tokens = [word for word in tokens if word not in string.punctuation]\n",
    "    # Remove stop words\n",
    "    tokens = [word for word in tokens if word not in stop_words]\n",
    "    # Join tokens back into a string\n",
    "    cleaned_text = ' '.join(tokens)\n",
    "    return cleaned_text\n",
    "\n",
    "# Apply data cleaning to the \"Sentence\" column\n",
    "new_data['Cleaned_Sentence'] = new_data['Review'].apply(clean_text)\n",
    "\n",
    "# Feature extraction using CountVectorizer\n",
    "X_new = vectorizer.transform(new_data['Cleaned_Sentence'])\n",
    "\n",
    "# Predictions\n",
    "y_pred_new = rf_classifier.predict(X_new)\n",
    "\n",
    "# Convert labels to 'positive' and 'negative'\n",
    "y_pred_new_str = ['Positive' if label == 1 else 'Negative' for label in y_pred_new]\n",
    "\n",
    "# Add predicted label to the existing dataframe\n",
    "new_data['Predicted_Label'] = y_pred_new_str\n",
    "\n",
    "# Save the dataframe to CSV\n",
    "new_data.to_csv('../analyzed_data/random_forest_analyzed_data.csv', index=False)\n",
    "\n",
    "print(\"Predictions saved.\")\n"
   ]
  },
  {
   "cell_type": "code",
   "execution_count": null,
   "id": "6e3893e2-0422-4f7b-96a5-e22c5dda4eaa",
   "metadata": {},
   "outputs": [],
   "source": []
  },
  {
   "cell_type": "markdown",
   "id": "89369667-5031-4fb7-95be-8af373fa993a",
   "metadata": {},
   "source": [
    "## 2. SUPPORT VECTOR ML MODEL"
   ]
  },
  {
   "cell_type": "code",
   "execution_count": 28,
   "id": "82380687-1dbb-4c62-a7ad-04cff2375778",
   "metadata": {},
   "outputs": [
    {
     "name": "stdout",
     "output_type": "stream",
     "text": [
      "Training Accuracy: 0.938558618399203\n",
      "Testing Accuracy: 0.8751660026560425\n"
     ]
    },
    {
     "data": {
      "image/png": "[encoded data removed]",
      "text/plain": [
       "<Figure size 800x600 with 2 Axes>"
      ]
     },
     "metadata": {},
     "output_type": "display_data"
    },
    {
     "data": {
      "text/plain": [
       "['../ml_trained_model/support_vector/svm_classifier.joblib']"
      ]
     },
     "execution_count": 28,
     "metadata": {},
     "output_type": "execute_result"
    }
   ],
   "source": [
    "import pandas as pd\n",
    "from sklearn.feature_extraction.text import CountVectorizer\n",
    "from sklearn.model_selection import train_test_split\n",
    "from sklearn.svm import SVC\n",
    "from sklearn.metrics import accuracy_score, confusion_matrix\n",
    "import matplotlib.pyplot as plt\n",
    "import seaborn as sns\n",
    "from joblib import dump\n",
    "\n",
    "# Load data from CSV\n",
    "# df = pd.read_csv('data_with_sentiment.csv')\n",
    "\n",
    "# Feature extraction using CountVectorizer\n",
    "vectorizer = CountVectorizer(stop_words='english')\n",
    "X = vectorizer.fit_transform(df['Review'])\n",
    "\n",
    "# Save the vectorizer to a file\n",
    "dump(vectorizer, '../ml_trained_model/support_vector/vectorizer.joblib')\n",
    "\n",
    "# Change labels to positive (1) and negative (0)\n",
    "df['label'] = df['Sentiment'].apply(lambda x: 1 if x == 'positive' else 0)\n",
    "\n",
    "# Split data into training and testing sets\n",
    "X_train, X_test, y_train, y_test = train_test_split(X, df['label'], test_size=0.2, random_state=42)\n",
    "\n",
    "# Initialize SVM classifier\n",
    "svm_classifier = SVC()\n",
    "\n",
    "# Train the classifier\n",
    "svm_classifier.fit(X_train, y_train)\n",
    "\n",
    "# Predictions\n",
    "y_train_pred = svm_classifier.predict(X_train)\n",
    "y_test_pred = svm_classifier.predict(X_test)\n",
    "\n",
    "# Training accuracy\n",
    "train_accuracy = accuracy_score(y_train, y_train_pred)\n",
    "print(\"Training Accuracy:\", train_accuracy)\n",
    "\n",
    "# Testing accuracy\n",
    "test_accuracy = accuracy_score(y_test, y_test_pred)\n",
    "print(\"Testing Accuracy:\", test_accuracy)\n",
    "\n",
    "# Confusion matrix\n",
    "conf_matrix = confusion_matrix(y_test, y_test_pred)\n",
    "\n",
    "# Plot confusion matrix\n",
    "plt.figure(figsize=(8, 6))\n",
    "sns.heatmap(conf_matrix, annot=True, cmap='Blues', fmt='g')\n",
    "plt.xlabel('Predicted Label')\n",
    "plt.ylabel('True Label')\n",
    "plt.title('Confusion Matrix')\n",
    "plt.show()\n",
    "\n",
    "dump(svm_classifier, '../ml_trained_model/support_vector/svm_classifier.joblib')\n"
   ]
  },
  {
   "cell_type": "code",
   "execution_count": 29,
   "id": "360d3799-578e-4cf2-adbd-6398a95ff877",
   "metadata": {},
   "outputs": [
    {
     "name": "stdout",
     "output_type": "stream",
     "text": [
      "Cross-Validation Training Accuracy: 0.8478905722281193\n",
      "Cross-Validation Testing Accuracy: 0.8366548590790082\n"
     ]
    }
   ],
   "source": [
    "\n",
    "# Perform cross-validation on training data\n",
    "cv_train_accuracy = cross_val_score(svm_classifier, X_train, y_train, cv=5, scoring='accuracy')\n",
    "print(\"Cross-Validation Training Accuracy:\", cv_train_accuracy.mean())\n",
    "\n",
    "# Perform cross-validation on testing data\n",
    "cv_test_accuracy = cross_val_score(svm_classifier, X_test, y_test, cv=5, scoring='accuracy')\n",
    "print(\"Cross-Validation Testing Accuracy:\", cv_test_accuracy.mean())\n"
   ]
  },
  {
   "cell_type": "code",
   "execution_count": 30,
   "id": "f37e40f1-cf01-4fb0-8148-5db8866bf6f1",
   "metadata": {},
   "outputs": [
    {
     "name": "stdout",
     "output_type": "stream",
     "text": [
      "Best Parameters: {'C': 10, 'kernel': 'rbf'}\n",
      "Best Accuracy Score: 0.8925968762492935\n",
      "Training Accuracy: 0.9943559096945551\n",
      "Testing Accuracy: 0.9057104913678619\n"
     ]
    },
    {
     "data": {
      "image/png": "[encoded data removed]",
      "text/plain": [
       "<Figure size 800x600 with 2 Axes>"
      ]
     },
     "metadata": {},
     "output_type": "display_data"
    },
    {
     "data": {
      "text/plain": [
       "['../ml_trained_model/support_vector/tuned_svm_classifier.joblib']"
      ]
     },
     "execution_count": 30,
     "metadata": {},
     "output_type": "execute_result"
    }
   ],
   "source": [
    "\n",
    "# Load data from CSV\n",
    "df = pd.read_csv('../review_data/dataset_7(senti)_roberta.csv')\n",
    "\n",
    "# Feature extraction using CountVectorizer\n",
    "vectorizer = CountVectorizer(stop_words='english')\n",
    "X = vectorizer.fit_transform(df['Review'])\n",
    "\n",
    "# Change labels to positive (1) and negative (0)\n",
    "df['label'] = df['Sentiment'].apply(lambda x: 1 if x == 'positive' else 0)\n",
    "\n",
    "# Split data into training and testing sets\n",
    "X_train, X_test, y_train, y_test = train_test_split(X, df['label'], test_size=0.2, random_state=42)\n",
    "\n",
    "# Load the saved SVM model\n",
    "svm_classifier = load('../ml_trained_model/support_vector/svm_classifier.joblib')\n",
    "\n",
    "# Define the hyperparameter grid\n",
    "param_grid = {\n",
    "    'C': [0.1, 1, 10, 100],\n",
    "    'kernel': ['linear', 'poly', 'rbf', 'sigmoid']\n",
    "}\n",
    "\n",
    "# Initialize GridSearchCV\n",
    "grid_search = GridSearchCV(svm_classifier, param_grid, cv=5, scoring='accuracy')\n",
    "\n",
    "# Perform grid search\n",
    "grid_search.fit(X_train, y_train)\n",
    "\n",
    "# Best parameters\n",
    "print(\"Best Parameters:\", grid_search.best_params_)\n",
    "\n",
    "# Best accuracy score\n",
    "print(\"Best Accuracy Score:\", grid_search.best_score_)\n",
    "\n",
    "# Predictions\n",
    "y_train_pred = grid_search.predict(X_train)\n",
    "y_test_pred = grid_search.predict(X_test)\n",
    "\n",
    "# Training accuracy\n",
    "train_accuracy = accuracy_score(y_train, y_train_pred)\n",
    "print(\"Training Accuracy:\", train_accuracy)\n",
    "\n",
    "# Testing accuracy\n",
    "test_accuracy = accuracy_score(y_test, y_test_pred)\n",
    "print(\"Testing Accuracy:\", test_accuracy)\n",
    "\n",
    "# Confusion matrix\n",
    "conf_matrix = confusion_matrix(y_test, y_test_pred)\n",
    "\n",
    "# Plot confusion matrix\n",
    "plt.figure(figsize=(8, 6))\n",
    "sns.heatmap(conf_matrix, annot=True, cmap='Blues', fmt='g')\n",
    "plt.xlabel('Predicted Label')\n",
    "plt.ylabel('True Label')\n",
    "plt.title('Confusion Matrix')\n",
    "plt.show()\n",
    "\n",
    "# Save the tuned SVM model\n",
    "dump(grid_search.best_estimator_, '../ml_trained_model/support_vector/tuned_svm_classifier.joblib')\n"
   ]
  },
  {
   "cell_type": "code",
   "execution_count": null,
   "id": "c02ac0b1-b6f7-4e46-b9a5-38be300abae8",
   "metadata": {},
   "outputs": [],
   "source": []
  },
  {
   "cell_type": "markdown",
   "id": "39ee243a-1339-4ec7-89b9-5b117cc7cf02",
   "metadata": {},
   "source": [
    "### Deploying the trained model on the resultant data."
   ]
  },
  {
   "cell_type": "code",
   "execution_count": 31,
   "id": "b40fe0f0-b0f4-43ba-b600-e52048863e8f",
   "metadata": {},
   "outputs": [
    {
     "name": "stderr",
     "output_type": "stream",
     "text": [
      "[nltk_data] Downloading package punkt to\n",
      "[nltk_data]     C:\\Users\\KIIT\\AppData\\Roaming\\nltk_data...\n",
      "[nltk_data]   Package punkt is already up-to-date!\n",
      "[nltk_data] Downloading package stopwords to\n",
      "[nltk_data]     C:\\Users\\KIIT\\AppData\\Roaming\\nltk_data...\n",
      "[nltk_data]   Package stopwords is already up-to-date!\n"
     ]
    },
    {
     "name": "stdout",
     "output_type": "stream",
     "text": [
      "Predictions saved.\n"
     ]
    }
   ],
   "source": [
    "# Load the saved SVM model\n",
    "svm_classifier = load('../ml_trained_model/support_vector/svm_classifier.joblib')  # Load the SVM model\n",
    "\n",
    "# Load the CountVectorizer used during training\n",
    "vectorizer = load('../ml_trained_model/support_vector/vectorizer.joblib')  # Assuming you saved the vectorizer during training\n",
    "\n",
    "# Load the new data\n",
    "new_data = pd.read_csv('../review_data/dataset_7(senti)_roberta.csv')\n",
    "\n",
    "# Download NLTK resources\n",
    "nltk.download('punkt')\n",
    "nltk.download('stopwords')\n",
    "\n",
    "# Initialize NLTK Stemmer and stopwords\n",
    "stemmer = PorterStemmer()\n",
    "stop_words = set(stopwords.words('english'))\n",
    "\n",
    "# Function to clean text\n",
    "def clean_text(text):\n",
    "    # Tokenize the text\n",
    "    tokens = nltk.word_tokenize(text)\n",
    "    # Convert tokens to lowercase\n",
    "    tokens = [word.lower() for word in tokens]\n",
    "    # Remove punctuations\n",
    "    tokens = [word for word in tokens if word not in string.punctuation]\n",
    "    # Remove stop words\n",
    "    tokens = [word for word in tokens if word not in stop_words]\n",
    "    # Join tokens back into a string\n",
    "    cleaned_text = ' '.join(tokens)\n",
    "    return cleaned_text\n",
    "\n",
    "# Apply data cleaning to the \"Sentence\" column\n",
    "new_data['Cleaned_Sentence'] = new_data['Review'].apply(clean_text)\n",
    "\n",
    "# Feature extraction using CountVectorizer\n",
    "X_new = vectorizer.transform(new_data['Cleaned_Sentence'])\n",
    "\n",
    "# Predictions\n",
    "y_pred_new = svm_classifier.predict(X_new)\n",
    "\n",
    "# Convert labels to 'Positive' and 'Negative'\n",
    "y_pred_new_str = ['Positive' if label == 1 else 'Negative' for label in y_pred_new]\n",
    "\n",
    "# Add predicted label to the existing dataframe\n",
    "new_data['Predicted_Label'] = y_pred_new_str\n",
    "\n",
    "# Save the dataframe to CSV\n",
    "new_data.to_csv('../analyzed_data/support_vector_analyzed_data.csv', index=False)\n",
    "\n",
    "print(\"Predictions saved.\")\n"
   ]
  },
  {
   "cell_type": "code",
   "execution_count": null,
   "id": "a1d75cf6-0e77-459d-958d-f70b77a8bc67",
   "metadata": {},
   "outputs": [],
   "source": []
  },
  {
   "cell_type": "markdown",
   "id": "d3666b6e-b33a-44c3-8cf2-358782ee0de0",
   "metadata": {},
   "source": [
    "## 3. XGBOOST ML MODEL"
   ]
  },
  {
   "cell_type": "code",
   "execution_count": 33,
   "id": "b9b68dbf-34eb-49c4-9fd4-5a17aa6bb1e0",
   "metadata": {},
   "outputs": [
    {
     "name": "stdout",
     "output_type": "stream",
     "text": [
      "Training Accuracy: 0.9460491367861886\n",
      "Testing Accuracy: 0.901062416998672\n"
     ]
    },
    {
     "data": {
      "image/png": "[encoded data removed]",
      "text/plain": [
       "<Figure size 800x600 with 2 Axes>"
      ]
     },
     "metadata": {},
     "output_type": "display_data"
    },
    {
     "data": {
      "text/plain": [
       "['../ml_trained_model/xgboost/xgb_model.joblib']"
      ]
     },
     "execution_count": 33,
     "metadata": {},
     "output_type": "execute_result"
    }
   ],
   "source": [
    "\n",
    "\n",
    "# Load data from CSV\n",
    "# df = pd.read_csv('data_with_sentiment.csv')\n",
    "\n",
    "# Feature extraction using CountVectorizer\n",
    "vectorizer = CountVectorizer(stop_words='english')\n",
    "X = vectorizer.fit_transform(df['Review'])\n",
    "\n",
    "# Save the vectorizer to a file\n",
    "dump(vectorizer, '../ml_trained_model/xgboost/vectorizer.joblib')\n",
    "\n",
    "# Change labels to positive (1) and negative (0)\n",
    "df['label'] = df['Sentiment'].apply(lambda x: 1 if x == 'positive' else 0)\n",
    "\n",
    "# Split data into training and testing sets\n",
    "X_train, X_test, y_train, y_test = train_test_split(X, df['label'], test_size=0.2, random_state=42)\n",
    "\n",
    "# Initialize XGBoost classifier\n",
    "xgb_classifier = XGBClassifier()\n",
    "\n",
    "# Train the classifier\n",
    "xgb_classifier.fit(X_train, y_train)\n",
    "\n",
    "# Predictions\n",
    "y_train_pred = xgb_classifier.predict(X_train)\n",
    "y_test_pred = xgb_classifier.predict(X_test)\n",
    "\n",
    "# Training accuracy\n",
    "train_accuracy = accuracy_score(y_train, y_train_pred)\n",
    "print(\"Training Accuracy:\", train_accuracy)\n",
    "\n",
    "# Testing accuracy\n",
    "test_accuracy = accuracy_score(y_test, y_test_pred)\n",
    "print(\"Testing Accuracy:\", test_accuracy)\n",
    "\n",
    "# Confusion matrix\n",
    "conf_matrix = confusion_matrix(y_test, y_test_pred)\n",
    "\n",
    "# Plot confusion matrix\n",
    "plt.figure(figsize=(8, 6))\n",
    "sns.heatmap(conf_matrix, annot=True, cmap='Blues', fmt='g')\n",
    "plt.xlabel('Predicted Label')\n",
    "plt.ylabel('True Label')\n",
    "plt.title('Confusion Matrix')\n",
    "plt.show()\n",
    "\n",
    "dump(xgb_classifier, '../ml_trained_model/xgboost/xgb_model.joblib')\n",
    "\n"
   ]
  },
  {
   "cell_type": "code",
   "execution_count": 34,
   "id": "a43504b7-8e8a-4eff-9d1e-404ff2b5c180",
   "metadata": {},
   "outputs": [
    {
     "name": "stdout",
     "output_type": "stream",
     "text": [
      "Best Parameters: {'learning_rate': 0.2, 'max_depth': 7, 'n_estimators': 200}\n",
      "Training Accuracy: 0.9593293492695883\n",
      "Testing Accuracy: 0.900398406374502\n"
     ]
    },
    {
     "data": {
      "image/png": "[encoded data removed]",
      "text/plain": [
       "<Figure size 800x600 with 2 Axes>"
      ]
     },
     "metadata": {},
     "output_type": "display_data"
    },
    {
     "data": {
      "text/plain": [
       "['../ml_trained_model/xgboost/tuned_xgb_model.joblib']"
      ]
     },
     "execution_count": 34,
     "metadata": {},
     "output_type": "execute_result"
    }
   ],
   "source": [
    "\n",
    "\n",
    "# Load data from CSV\n",
    "df = pd.read_csv('../review_data/dataset_7(senti)_roberta.csv')\n",
    "\n",
    "# Feature extraction using CountVectorizer\n",
    "vectorizer = CountVectorizer(stop_words='english')\n",
    "X = vectorizer.fit_transform(df['Review'])\n",
    "\n",
    "# Save the vectorizer to a file\n",
    "dump(vectorizer, '../ml_trained_model/xgboost/vectorizer.joblib')\n",
    "\n",
    "# Change labels to positive (1) and negative (0)\n",
    "df['label'] = df['Sentiment'].apply(lambda x: 1 if x == 'positive' else 0)\n",
    "\n",
    "# Split data into training and testing sets\n",
    "X_train, X_test, y_train, y_test = train_test_split(X, df['label'], test_size=0.2, random_state=42)\n",
    "\n",
    "# Initialize XGBoost classifier\n",
    "xgb_classifier = load('../ml_trained_model/xgboost/xgb_model.joblib')\n",
    "\n",
    "# Define hyperparameters for grid search\n",
    "param_grid = {\n",
    "    'n_estimators': [50, 100, 200],\n",
    "    'max_depth': [3, 5, 7],\n",
    "    'learning_rate': [0.01, 0.1, 0.2]\n",
    "}\n",
    "\n",
    "# Perform grid search\n",
    "grid_search = GridSearchCV(estimator=xgb_classifier, param_grid=param_grid, cv=5, scoring='accuracy')\n",
    "grid_search.fit(X_train, y_train)\n",
    "\n",
    "# Get the best parameters\n",
    "best_params = grid_search.best_params_\n",
    "print(\"Best Parameters:\", best_params)\n",
    "\n",
    "# Initialize XGBoost classifier with best parameter\n",
    "best_xgb_classifier = XGBClassifier(**best_params)\n",
    "\n",
    "# Train the classifier with best parameters\n",
    "best_xgb_classifier.fit(X_train, y_train)\n",
    "\n",
    "# Predictions\n",
    "y_train_pred = best_xgb_classifier.predict(X_train)\n",
    "y_test_pred = best_xgb_classifier.predict(X_test)\n",
    "\n",
    "# Training accuracy\n",
    "train_accuracy = accuracy_score(y_train, y_train_pred)\n",
    "print(\"Training Accuracy:\", train_accuracy)\n",
    "\n",
    "# Testing accuracy\n",
    "test_accuracy = accuracy_score(y_test, y_test_pred)\n",
    "print(\"Testing Accuracy:\", test_accuracy)\n",
    "\n",
    "# Confusion matrix\n",
    "conf_matrix = confusion_matrix(y_test, y_test_pred)\n",
    "\n",
    "# Plot confusion matrix\n",
    "plt.figure(figsize=(8, 6))\n",
    "sns.heatmap(conf_matrix, annot=True, cmap='Blues', fmt='g')\n",
    "plt.xlabel('Predicted Label')\n",
    "plt.ylabel('True Label')\n",
    "plt.title('Confusion Matrix')\n",
    "plt.show()\n",
    "\n",
    "# Save the trained XGBoost classifier with best parameters\n",
    "dump(best_xgb_classifier, '../ml_trained_model/xgboost/tuned_xgb_model.joblib')\n"
   ]
  },
  {
   "cell_type": "markdown",
   "id": "5aa0f9c6-11c6-46f0-89eb-d719ac5e5c31",
   "metadata": {},
   "source": [
    "### Deploying the trained model on the resultant data."
   ]
  },
  {
   "cell_type": "code",
   "execution_count": 35,
   "id": "e36c3e02-4659-482f-b5ac-b01bd708ea7a",
   "metadata": {},
   "outputs": [
    {
     "data": {
      "text/html": [
       "<div>\n",
       "<style scoped>\n",
       "    .dataframe tbody tr th:only-of-type {\n",
       "        vertical-align: middle;\n",
       "    }\n",
       "\n",
       "    .dataframe tbody tr th {\n",
       "        vertical-align: top;\n",
       "    }\n",
       "\n",
       "    .dataframe thead th {\n",
       "        text-align: right;\n",
       "    }\n",
       "</style>\n",
       "<table border=\"1\" class=\"dataframe\">\n",
       "  <thead>\n",
       "    <tr style=\"text-align: right;\">\n",
       "      <th></th>\n",
       "      <th>Product</th>\n",
       "      <th>Rating</th>\n",
       "      <th>Date</th>\n",
       "      <th>Source</th>\n",
       "      <th>Review</th>\n",
       "      <th>Sentiment</th>\n",
       "    </tr>\n",
       "  </thead>\n",
       "  <tbody>\n",
       "    <tr>\n",
       "      <th>0</th>\n",
       "      <td>intel-i7-14700k</td>\n",
       "      <td>5.0</td>\n",
       "      <td>November/2023</td>\n",
       "      <td>amazon</td>\n",
       "      <td>far good cpu monster run very nicely boost max...</td>\n",
       "      <td>positive</td>\n",
       "    </tr>\n",
       "    <tr>\n",
       "      <th>1</th>\n",
       "      <td>intel-i7-14700k</td>\n",
       "      <td>5.0</td>\n",
       "      <td>January/2024</td>\n",
       "      <td>amazon</td>\n",
       "      <td>guess everyone right thing hot went brand aio ...</td>\n",
       "      <td>positive</td>\n",
       "    </tr>\n",
       "    <tr>\n",
       "      <th>2</th>\n",
       "      <td>intel-i7-14700k</td>\n",
       "      <td>5.0</td>\n",
       "      <td>March/2024</td>\n",
       "      <td>amazon</td>\n",
       "      <td>intel ik delivers impressive performance high ...</td>\n",
       "      <td>positive</td>\n",
       "    </tr>\n",
       "    <tr>\n",
       "      <th>3</th>\n",
       "      <td>intel-i7-14700k</td>\n",
       "      <td>5.0</td>\n",
       "      <td>May/2024</td>\n",
       "      <td>amazon</td>\n",
       "      <td>purchase cpu please also purchase alongside pu...</td>\n",
       "      <td>positive</td>\n",
       "    </tr>\n",
       "    <tr>\n",
       "      <th>4</th>\n",
       "      <td>intel-i7-14700k</td>\n",
       "      <td>5.0</td>\n",
       "      <td>April/2024</td>\n",
       "      <td>amazon</td>\n",
       "      <td>professional cpu isnt designed average user ho...</td>\n",
       "      <td>positive</td>\n",
       "    </tr>\n",
       "  </tbody>\n",
       "</table>\n",
       "</div>"
      ],
      "text/plain": [
       "           Product  Rating           Date  Source  \\\n",
       "0  intel-i7-14700k     5.0  November/2023  amazon   \n",
       "1  intel-i7-14700k     5.0   January/2024  amazon   \n",
       "2  intel-i7-14700k     5.0     March/2024  amazon   \n",
       "3  intel-i7-14700k     5.0       May/2024  amazon   \n",
       "4  intel-i7-14700k     5.0     April/2024  amazon   \n",
       "\n",
       "                                              Review Sentiment  \n",
       "0  far good cpu monster run very nicely boost max...  positive  \n",
       "1  guess everyone right thing hot went brand aio ...  positive  \n",
       "2  intel ik delivers impressive performance high ...  positive  \n",
       "3  purchase cpu please also purchase alongside pu...  positive  \n",
       "4  professional cpu isnt designed average user ho...  positive  "
      ]
     },
     "execution_count": 35,
     "metadata": {},
     "output_type": "execute_result"
    }
   ],
   "source": [
    "# new_data = pd.read_csv('SentimentBulk.csv')\n",
    "# new_data = pd.read_csv(r\"amazon_alexa.tsv\", delimiter = '\\t', quoting = 3)\n",
    "new_data = pd.read_csv('../review_data/dataset_7(senti)_roberta.csv')\n",
    "\n",
    "new_data.dropna(inplace=True)\n",
    "\n",
    "new_data.head()\n"
   ]
  },
  {
   "cell_type": "code",
   "execution_count": 36,
   "id": "3fdbd076-2692-49cd-801f-c9928c183cb6",
   "metadata": {},
   "outputs": [
    {
     "name": "stderr",
     "output_type": "stream",
     "text": [
      "[nltk_data] Downloading package punkt to\n",
      "[nltk_data]     C:\\Users\\KIIT\\AppData\\Roaming\\nltk_data...\n",
      "[nltk_data]   Package punkt is already up-to-date!\n",
      "[nltk_data] Downloading package stopwords to\n",
      "[nltk_data]     C:\\Users\\KIIT\\AppData\\Roaming\\nltk_data...\n",
      "[nltk_data]   Package stopwords is already up-to-date!\n"
     ]
    },
    {
     "name": "stdout",
     "output_type": "stream",
     "text": [
      "Predictions saved.\n"
     ]
    }
   ],
   "source": [
    "\n",
    "# Load the saved XGBoost model\n",
    "xgb_classifier = load('../ml_trained_model/xgboost/tuned_xgb_model.joblib')  # Load the XGBoost model\n",
    "\n",
    "# Load the CountVectorizer used during training\n",
    "vectorizer = load('../ml_trained_model/xgboost/vectorizer.joblib')  # Assuming you saved the vectorizer during training\n",
    "\n",
    "# Load the new data\n",
    "new_data = pd.read_csv('../review_data/dataset_7(senti)_roberta.csv')\n",
    "\n",
    "# Download NLTK resources\n",
    "nltk.download('punkt')\n",
    "nltk.download('stopwords')\n",
    "\n",
    "# Initialize NLTK Stemmer and stopwords\n",
    "stemmer = PorterStemmer()\n",
    "stop_words = set(stopwords.words('english'))\n",
    "\n",
    "# Function to clean text\n",
    "def clean_text(text):\n",
    "    # Tokenize the text\n",
    "    tokens = nltk.word_tokenize(text)\n",
    "    # Convert tokens to lowercase\n",
    "    tokens = [word.lower() for word in tokens]\n",
    "    # Remove punctuations\n",
    "    tokens = [word for word in tokens if word not in string.punctuation]\n",
    "    # Remove stop words\n",
    "    tokens = [word for word in tokens if word not in stop_words]\n",
    "    # Join tokens back into a string\n",
    "    cleaned_text = ' '.join(tokens)\n",
    "    return cleaned_text\n",
    "\n",
    "# Apply data cleaning to the \"Sentence\" column\n",
    "new_data['Cleaned_Sentence'] = new_data['Review'].apply(clean_text)\n",
    "\n",
    "# Feature extraction using CountVectorizer\n",
    "X_new = vectorizer.transform(new_data['Cleaned_Sentence'])\n",
    "\n",
    "# Predictions\n",
    "y_pred_new = xgb_classifier.predict(X_new)\n",
    "\n",
    "# Convert labels to 'Positive' and 'Negative'\n",
    "y_pred_new_str = ['Positive' if label == 1 else 'Negative' for label in y_pred_new]\n",
    "\n",
    "# Add predicted label to the existing dataframe\n",
    "new_data['Predicted_Label'] = y_pred_new_str\n",
    "\n",
    "# Save the dataframe to CSV\n",
    "new_data.to_csv('../analyzed_data/xgboost_analyzed_data.csv', index=False)\n",
    "\n",
    "print(\"Predictions saved.\")\n"
   ]
  },
  {
   "cell_type": "markdown",
   "id": "511edff3-001b-48dd-a888-8b744acf4ab2",
   "metadata": {},
   "source": [
    "## Testing for Array of Strings"
   ]
  },
  {
   "cell_type": "code",
   "execution_count": 37,
   "id": "a54901e5-3218-420c-8c22-ef944880f74e",
   "metadata": {},
   "outputs": [
    {
     "name": "stdout",
     "output_type": "stream",
     "text": [
      "Sentiment Predictions for Test Strings:\n",
      "                                         Input_String Predicted_Label\n",
      "0                            This product is amazing!        Positive\n",
      "1                       disappoint with this purchase        Negative\n",
      "2                                        satisfactory        Negative\n",
      "3                                                 bad        Negative\n",
      "4                           Great value for the price        Positive\n",
      "5                                       Product worse        Negative\n",
      "6                                  Sucks, I wanna die        Negative\n",
      "7               I want to get another one its so good        Positive\n",
      "8                                               Worse        Negative\n",
      "9   sometim game answer question correctli alexa s...        Positive\n",
      "10                                                abl        Negative\n",
      "11                                            Not bad        Negative\n",
      "12                                               Good        Positive\n",
      "13                                         high price        Negative\n"
     ]
    }
   ],
   "source": [
    "\n",
    "# Load the saved model\n",
    "# classifier = load('tuned_rf_model.joblib')  # Load the Random Forest model\n",
    "classifier = load('../ml_trained_model/xgboost/tuned_xgb_model.joblib')  # Load the XGBoost model\n",
    "# classifier = load('tuned_svm_classifier.joblib') #Load the Sector Vector model\n",
    "\n",
    "\n",
    "# Load the CountVectorizer used during training\n",
    "vectorizer = load('../ml_trained_model/xgboost/vectorizer.joblib')  # Assuming you saved the vectorizer during training\n",
    "\n",
    "# Function to predict sentiment of input strings\n",
    "def predict_sentiment(input_strings):\n",
    "    # Feature extraction using CountVectorizer\n",
    "    X_test = vectorizer.transform(input_strings)\n",
    "\n",
    "    # Predictions\n",
    "    y_pred = classifier.predict(X_test)\n",
    "\n",
    "    # Convert labels to 'Positive' and 'Negative'\n",
    "    predictions = ['Positive' if label == 1 else 'Negative' for label in y_pred]\n",
    "\n",
    "    # Create a DataFrame with input strings and predicted labels\n",
    "    predictions_df = pd.DataFrame({'Input_String': input_strings, 'Predicted_Label': predictions})\n",
    "\n",
    "    return predictions_df\n",
    "\n",
    "# Test strings\n",
    "test_strings = [\n",
    "    \"This product is amazing!\",\n",
    "    \"disappoint with this purchase\",\n",
    "    \"satisfactory\",\n",
    "    \"bad\",\n",
    "    \"Great value for the price\",\n",
    "    \"Product worse\",\n",
    "    \"Sucks, I wanna die\",\n",
    "    \"I want to get another one its so good\",\n",
    "    \"Worse\",\n",
    "    \"sometim game answer question correctli alexa say got wrong answer like turn dont light away home\",\n",
    "    \"abl\",\n",
    "    \"Not bad\",\n",
    "    \"Good\",\n",
    "    \"high price\"\n",
    "    \n",
    "]\n",
    "# Predict sentiment of input strings\n",
    "test_predictions = predict_sentiment(test_strings)\n",
    "\n",
    "# Display predictions\n",
    "print(\"Sentiment Predictions for Test Strings:\")\n",
    "print(test_predictions)\n"
   ]
  },
  {
   "cell_type": "markdown",
   "id": "3503fab5-1eba-4e37-9940-54930fef395e",
   "metadata": {},
   "source": [
    "## Evaluating Best Model Based on Performance -"
   ]
  },
  {
   "cell_type": "code",
   "execution_count": 38,
   "id": "193b5a3c-d2bc-4775-9600-c6bb7da868ef",
   "metadata": {},
   "outputs": [
    {
     "name": "stdout",
     "output_type": "stream",
     "text": [
      "Random Forest Model Metrics:\n",
      "Accuracy: 0.6153846153846154\n",
      "Precision: 0.6666666666666666\n",
      "Recall: 0.5714285714285714\n",
      "F1-score: 0.6153846153846154\n",
      "\n",
      "XGBoost Model Metrics:\n",
      "Accuracy: 0.6923076923076923\n",
      "Precision: 0.8\n",
      "Recall: 0.5714285714285714\n",
      "F1-score: 0.6666666666666666\n",
      "\n",
      "SVM Model Metrics:\n",
      "Accuracy: 0.6923076923076923\n",
      "Precision: 0.8\n",
      "Recall: 0.5714285714285714\n",
      "F1-score: 0.6666666666666666\n"
     ]
    }
   ],
   "source": [
    "rf_classifier = load('../ml_trained_model/random_forest/tuned_rf_model.joblib')  # Load the Random Forest model\n",
    "xgb_classifier = load('../ml_trained_model/xgboost/tuned_xgb_model.joblib')  # Load the XGBoost model\n",
    "svm_classifier = load('../ml_trained_model/support_vector/tuned_svm_classifier.joblib') # Load the Support Vector model\n",
    "\n",
    "# Load the CountVectorizer used during training\n",
    "vectorizer = load('../ml_trained_model/xgboost/vectorizer.joblib')\n",
    "\n",
    "# Function to predict sentiment of input strings\n",
    "def predict_sentiment(classifier, input_strings):\n",
    "    X_test = vectorizer.transform(input_strings)\n",
    "\n",
    "    y_pred = classifier.predict(X_test)\n",
    "\n",
    "    predictions = ['Positive' if label == 1 else 'Negative' for label in y_pred]\n",
    "\n",
    "    return predictions\n",
    "\n",
    "# Test strings\n",
    "test_strings = [\n",
    "    \"This product is amazing!\",\n",
    "    \"disappoint with this purchase\",\n",
    "    \"Value for money\",\n",
    "    \"bad\",\n",
    "    \"Great value for the price\",\n",
    "    \"Product worse\",\n",
    "    \"Sucks, I wanna die\",\n",
    "    \"I want to get another one its so good\",\n",
    "    \"Worse\",\n",
    "    \"sometim game answer question correctli alexa say got wrong answer like turn dont light away home\",\n",
    "    \"abl\",\n",
    "    \"Not bad\",\n",
    "    \"Good\"\n",
    "]\n",
    "\n",
    "# Define the true labels for the test strings\n",
    "true_labels = ['Positive', 'Negative', 'Positive', 'Negative', 'Positive', 'Negative', 'Negative', 'Positive', 'Negative', 'Negative', 'Positive', 'Positive', 'Positive']\n",
    "\n",
    "def evaluate_model(classifier, test_strings, true_labels):\n",
    "    predictions = predict_sentiment(classifier, test_strings)\n",
    "\n",
    "    accuracy = accuracy_score(true_labels, predictions)\n",
    "    precision = precision_score(true_labels, predictions, pos_label='Positive', average='binary')\n",
    "    recall = recall_score(true_labels, predictions, pos_label='Positive', average='binary')\n",
    "    f1 = f1_score(true_labels, predictions, pos_label='Positive', average='binary')\n",
    "\n",
    "    return accuracy, precision, recall, f1\n",
    "\n",
    "# Evaluate Random Forest model\n",
    "rf_accuracy, rf_precision, rf_recall, rf_f1 = evaluate_model(rf_classifier, test_strings, true_labels)\n",
    "print(\"Random Forest Model Metrics:\")\n",
    "print(\"Accuracy:\", rf_accuracy)\n",
    "print(\"Precision:\", rf_precision)\n",
    "print(\"Recall:\", rf_recall)\n",
    "print(\"F1-score:\", rf_f1)\n",
    "print()\n",
    "\n",
    "# Evaluate XGBoost model\n",
    "xgb_accuracy, xgb_precision, xgb_recall, xgb_f1 = evaluate_model(xgb_classifier, test_strings, true_labels)\n",
    "print(\"XGBoost Model Metrics:\")\n",
    "print(\"Accuracy:\", xgb_accuracy)\n",
    "print(\"Precision:\", xgb_precision)\n",
    "print(\"Recall:\", xgb_recall)\n",
    "print(\"F1-score:\", xgb_f1)\n",
    "print()\n",
    "\n",
    "# Evaluate SVM model\n",
    "svm_accuracy, svm_precision, svm_recall, svm_f1 = evaluate_model(svm_classifier, test_strings, true_labels)\n",
    "print(\"SVM Model Metrics:\")\n",
    "print(\"Accuracy:\", svm_accuracy)\n",
    "print(\"Precision:\", svm_precision)\n",
    "print(\"Recall:\", svm_recall)\n",
    "print(\"F1-score:\", svm_f1)\n"
   ]
  },
  {
   "cell_type": "markdown",
   "id": "d61eebbe-8eba-408b-aad6-5825c972351c",
   "metadata": {},
   "source": [
    "### We derive the following from the above results -\n",
    "1. Both XGBoost and SVM models show equal performance across accuracy, precision, recall, and F1-score.\n",
    "2. XGBoost models typically require more computational resources and have longer training times compared to SVMs but often achieve better performance.\n",
    "3. If computational resources allow and interpretability isn't a concern, XGBoost might be preferred for its slightly higher accuracy.\n",
    "4. Alternatively, if simplicity and ease of interpretation are prioritized, SVM could be a suitable choice."
   ]
  },
  {
   "cell_type": "code",
   "execution_count": null,
   "id": "d0aede53-84a6-4ec8-b15a-44a5aa2e3a10",
   "metadata": {},
   "outputs": [],
   "source": []
  },
  {
   "cell_type": "code",
   "execution_count": null,
   "id": "34736af7-4688-4733-934b-5035f6b6553b",
   "metadata": {},
   "outputs": [],
   "source": []
  }
 ],
 "metadata": {
  "kernelspec": {
   "display_name": "Python 3 (ipykernel)",
   "language": "python",
   "name": "python3"
  },
  "language_info": {
   "codemirror_mode": {
    "name": "ipython",
    "version": 3
   },
   "file_extension": ".py",
   "mimetype": "text/x-python",
   "name": "python",
   "nbconvert_exporter": "python",
   "pygments_lexer": "ipython3",
   "version": "3.12.3"
  }
 },
 "nbformat": 4,
 "nbformat_minor": 5
}
